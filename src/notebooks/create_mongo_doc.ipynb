{
 "cells": [
  {
   "cell_type": "code",
   "execution_count": 13,
   "metadata": {
    "collapsed": true
   },
   "outputs": [],
   "source": [
    "from sqlalchemy import create_engine\n",
    "\n",
    "import env\n",
    "import certifi\n",
    "from pymongo import MongoClient\n",
    "import pandas as pd\n",
    "\n",
    "ca = certifi.where()"
   ]
  },
  {
   "cell_type": "code",
   "execution_count": 14,
   "outputs": [],
   "source": [
    "# pull stock_info from neondb\n",
    "engine = create_engine(env.NEON_DB_CONSTR)\n",
    "stock_info = pd.read_sql('SELECT * FROM stock_info', engine)"
   ],
   "metadata": {
    "collapsed": false
   }
  },
  {
   "cell_type": "code",
   "execution_count": 19,
   "outputs": [],
   "source": [
    "watchlist = stock_info[['Symbol']].rename(columns={'Symbol': 'symbol'})\n",
    "watchlist['interval'] = '1d'\n",
    "watchlist['data_source'] = 'yfinance'\n",
    "watchlist['market_index'] = 'SPY'\n",
    "watchlist['auto_synced'] = True"
   ],
   "metadata": {
    "collapsed": false
   }
  },
  {
   "cell_type": "code",
   "execution_count": 20,
   "outputs": [
    {
     "data": {
      "text/plain": "<pymongo.results.InsertOneResult at 0x1b066c842e0>"
     },
     "execution_count": 20,
     "metadata": {},
     "output_type": "execute_result"
    }
   ],
   "source": [
    "_mongo_client = MongoClient(env.MONGO_URL, tlsCAFile=ca)\n",
    "_db = _mongo_client['asset-tracking']\n",
    "_collection = _db['watchlist']\n",
    "send_watchlist = watchlist.to_dict('records')\n",
    "# insert watchlist into mongo as a single document:\n",
    "# {\n",
    "#     \"username\": \"bjahnke\",\n",
    "#     \"watchlist\": [\n",
    "#         {\n",
    "#             \"symbol\": \"AAPL\",\n",
    "#             \"interval\": \"1d\",\n",
    "#             \"data_source\": \"yfinance\",\n",
    "#             \"market_index\": \"SPY\"\n",
    "#         },\n",
    "#         {\n",
    "#             \"symbol\": \"MSFT\",\n",
    "#             \"interval\": \"1d\",\n",
    "#             \"data_source\": \"yfinance\",\n",
    "#             \"market_index\": \"SPY\"\n",
    "#         }\n",
    "#     ]\n",
    "# }\n",
    "_collection.insert_one({\n",
    "    \"username\": \"bjahnke71\",\n",
    "    \"watchlist\": send_watchlist\n",
    "})\n",
    "\n"
   ],
   "metadata": {
    "collapsed": false
   }
  },
  {
   "cell_type": "code",
   "execution_count": 1,
   "outputs": [
    {
     "ename": "SyntaxError",
     "evalue": "incomplete input (3613436695.py, line 11)",
     "output_type": "error",
     "traceback": [
      "\u001B[1;36m  Cell \u001B[1;32mIn[1], line 11\u001B[1;36m\u001B[0m\n\u001B[1;33m    class Watchlist:\u001B[0m\n\u001B[1;37m                    ^\u001B[0m\n\u001B[1;31mSyntaxError\u001B[0m\u001B[1;31m:\u001B[0m incomplete input\n"
     ]
    }
   ],
   "source": [
    "_mongo_client = MongoClient(env.MONGO_URL, tlsCAFile=ca)\n",
    "_db = _mongo_client['asset-tracking']\n",
    "_collection = _db['watchlist']\n",
    "\n",
    "_latest_entry = _collection.find_one({\"username\": \"bjahnke\"}, sort=[(\"_id\", -1)])\n",
    "_watchlist = {\n",
    "    'event_id': _latest_entry.get('event_id'),\n",
    "    'venue_id': _latest_entry.get('venue_id'),\n",
    "    'performer_id': _latest_entry.get('performer_id')\n",
    "}\n",
    "\n",
    "class MongoWatchlistClient:\n",
    "    def __init__(self, mongo_client, db: str, watchlist_collection: str):\n",
    "        self._mongo_client = mongo_client\n",
    "        self._db = _mongo_client[db]\n",
    "        self._collection = self._db[watchlist_collection]\n",
    "\n",
    "    def get_watchlist(self):\n",
    "        return self._collection.find_one({\"username\": \"bjahnke71\"}, sort=[(\"_id\", -1)])\n"
   ],
   "metadata": {
    "collapsed": false
   }
  },
  {
   "cell_type": "code",
   "execution_count": null,
   "outputs": [],
   "source": [],
   "metadata": {
    "collapsed": false
   }
  }
 ],
 "metadata": {
  "kernelspec": {
   "display_name": "Python 3",
   "language": "python",
   "name": "python3"
  },
  "language_info": {
   "codemirror_mode": {
    "name": "ipython",
    "version": 2
   },
   "file_extension": ".py",
   "mimetype": "text/x-python",
   "name": "python",
   "nbconvert_exporter": "python",
   "pygments_lexer": "ipython2",
   "version": "2.7.6"
  }
 },
 "nbformat": 4,
 "nbformat_minor": 0
}
